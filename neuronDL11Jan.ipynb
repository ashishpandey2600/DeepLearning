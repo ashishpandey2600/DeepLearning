{
  "nbformat": 4,
  "nbformat_minor": 0,
  "metadata": {
    "colab": {
      "provenance": [],
      "authorship_tag": "ABX9TyP2P7lmMQtSehAQGEoppeMb",
      "include_colab_link": true
    },
    "kernelspec": {
      "name": "python3",
      "display_name": "Python 3"
    },
    "language_info": {
      "name": "python"
    }
  },
  "cells": [
    {
      "cell_type": "markdown",
      "metadata": {
        "id": "view-in-github",
        "colab_type": "text"
      },
      "source": [
        "<a href=\"https://colab.research.google.com/github/ashishpandey2600/DeepLearning/blob/main/neuronDL11Jan.ipynb\" target=\"_parent\"><img src=\"https://colab.research.google.com/assets/colab-badge.svg\" alt=\"Open In Colab\"/></a>"
      ]
    },
    {
      "cell_type": "code",
      "execution_count": null,
      "metadata": {
        "colab": {
          "base_uri": "https://localhost:8080/"
        },
        "id": "YkDj7IkNab6w",
        "outputId": "fad580bc-7384-4b7f-9eb5-e2c74203b5f7"
      },
      "outputs": [
        {
          "output_type": "stream",
          "name": "stdout",
          "text": [
            "The youngest child is Linus\n"
          ]
        }
      ],
      "source": [
        "def my_function(child3, child2, child1):\n",
        "  print(\"The youngest child is \" + child3)\n",
        "\n",
        "my_function(child1 = \"Emil\", child2 = \"Tobias\", child3 = \"Linus\")\n",
        "\n"
      ]
    },
    {
      "cell_type": "code",
      "source": [
        "def my_function(w,p,b):\n",
        "  n= w*p + b\n",
        "  print(n)\n",
        "\n",
        "my_function(2.3,2,-3)  "
      ],
      "metadata": {
        "colab": {
          "base_uri": "https://localhost:8080/"
        },
        "id": "Eu2YJC0mVqS5",
        "outputId": "76788ecd-3874-4684-e750-d07538ba00c4"
      },
      "execution_count": null,
      "outputs": [
        {
          "output_type": "stream",
          "name": "stdout",
          "text": [
            "1.5999999999999996\n"
          ]
        }
      ]
    },
    {
      "cell_type": "code",
      "source": [
        "def my_function(w,)"
      ],
      "metadata": {
        "id": "ovKCwGKMaAo4"
      },
      "execution_count": null,
      "outputs": []
    },
    {
      "cell_type": "code",
      "source": [
        "class Myperceptron:\n",
        "  def __init__(self,learning_rate=0.1, n_iterations=1000)\n",
        "  \n",
        "   self.lr=learing_rate\n",
        "   self.epochs=n_iteratioins\n",
        "   self.weight = None\n",
        "   self.bias = None\n",
        "  \n",
        "\n",
        "  def fit(self, X,y):\n",
        "    print(X.shape)\n",
        "    print(y.shape)\n",
        "\n",
        "    pass\n",
        "\n",
        "  def predict(self,X):\n",
        "    pass   "
      ],
      "metadata": {
        "id": "yPTaGOUaWIuE"
      },
      "execution_count": null,
      "outputs": []
    },
    {
      "cell_type": "code",
      "source": [
        "import numpy as np\n",
        "k1=np.random.randn(1)\n",
        "k2=np.random.randn(1)\n",
        "k3=np.random.randn(1)\n",
        "def percept(num,x):\n",
        "  n = np.array([])\n",
        "  w = [k1,k2]\n",
        "  wo = k3\n",
        "  for i in range(num):\n",
        "    a=np.matmul(x,w[i])\n",
        "    n=np.append(n,a)\n",
        "  return np.matmul(n,wo)\n",
        "  \n",
        "percept(2,x)\n",
        "\n"
      ],
      "metadata": {
        "colab": {
          "base_uri": "https://localhost:8080/",
          "height": 347
        },
        "id": "UNX66fZ3ciUm",
        "outputId": "9541e9fa-821d-43db-ed16-f961f679d529"
      },
      "execution_count": null,
      "outputs": [
        {
          "output_type": "error",
          "ename": "ValueError",
          "evalue": "ignored",
          "traceback": [
            "\u001b[0;31m---------------------------------------------------------------------------\u001b[0m",
            "\u001b[0;31mValueError\u001b[0m                                Traceback (most recent call last)",
            "\u001b[0;32m<ipython-input-11-84675ff5d252>\u001b[0m in \u001b[0;36m<module>\u001b[0;34m\u001b[0m\n\u001b[1;32m     14\u001b[0m \u001b[0;34m\u001b[0m\u001b[0m\n\u001b[1;32m     15\u001b[0m \u001b[0mx\u001b[0m\u001b[0;34m=\u001b[0m\u001b[0;36m3\u001b[0m\u001b[0;34m\u001b[0m\u001b[0;34m\u001b[0m\u001b[0m\n\u001b[0;32m---> 16\u001b[0;31m \u001b[0mpercept\u001b[0m\u001b[0;34m(\u001b[0m\u001b[0;36m2\u001b[0m\u001b[0;34m,\u001b[0m\u001b[0mx\u001b[0m\u001b[0;34m)\u001b[0m\u001b[0;34m\u001b[0m\u001b[0;34m\u001b[0m\u001b[0m\n\u001b[0m\u001b[1;32m     17\u001b[0m \u001b[0;34m\u001b[0m\u001b[0m\n",
            "\u001b[0;32m<ipython-input-11-84675ff5d252>\u001b[0m in \u001b[0;36mpercept\u001b[0;34m(num, x)\u001b[0m\n\u001b[1;32m      8\u001b[0m   \u001b[0mwo\u001b[0m\u001b[0;34m=\u001b[0m\u001b[0mk3\u001b[0m\u001b[0;34m\u001b[0m\u001b[0;34m\u001b[0m\u001b[0m\n\u001b[1;32m      9\u001b[0m   \u001b[0;32mfor\u001b[0m \u001b[0mi\u001b[0m \u001b[0;32min\u001b[0m \u001b[0mrange\u001b[0m\u001b[0;34m(\u001b[0m\u001b[0mnum\u001b[0m\u001b[0;34m)\u001b[0m\u001b[0;34m:\u001b[0m\u001b[0;34m\u001b[0m\u001b[0;34m\u001b[0m\u001b[0m\n\u001b[0;32m---> 10\u001b[0;31m     \u001b[0ma\u001b[0m\u001b[0;34m=\u001b[0m\u001b[0mnp\u001b[0m\u001b[0;34m.\u001b[0m\u001b[0mmatmul\u001b[0m\u001b[0;34m(\u001b[0m\u001b[0mx\u001b[0m\u001b[0;34m,\u001b[0m\u001b[0mw\u001b[0m\u001b[0;34m[\u001b[0m\u001b[0mi\u001b[0m\u001b[0;34m]\u001b[0m\u001b[0;34m)\u001b[0m\u001b[0;34m\u001b[0m\u001b[0;34m\u001b[0m\u001b[0m\n\u001b[0m\u001b[1;32m     11\u001b[0m     \u001b[0mn\u001b[0m\u001b[0;34m=\u001b[0m\u001b[0mnp\u001b[0m\u001b[0;34m.\u001b[0m\u001b[0mappend\u001b[0m\u001b[0;34m(\u001b[0m\u001b[0mn\u001b[0m\u001b[0;34m,\u001b[0m\u001b[0ma\u001b[0m\u001b[0;34m)\u001b[0m\u001b[0;34m\u001b[0m\u001b[0;34m\u001b[0m\u001b[0m\n\u001b[1;32m     12\u001b[0m   \u001b[0;32mreturn\u001b[0m \u001b[0mnp\u001b[0m\u001b[0;34m.\u001b[0m\u001b[0mmatmul\u001b[0m\u001b[0;34m(\u001b[0m\u001b[0mn\u001b[0m\u001b[0;34m,\u001b[0m\u001b[0mwo\u001b[0m\u001b[0;34m)\u001b[0m\u001b[0;34m\u001b[0m\u001b[0;34m\u001b[0m\u001b[0m\n",
            "\u001b[0;31mValueError\u001b[0m: matmul: Input operand 0 does not have enough dimensions (has 0, gufunc core with signature (n?,k),(k,m?)->(n?,m?) requires 1)"
          ]
        }
      ]
    },
    {
      "cell_type": "code",
      "source": [],
      "metadata": {
        "id": "6kD1uG6vv1K0"
      },
      "execution_count": null,
      "outputs": []
    },
    {
      "cell_type": "code",
      "source": [],
      "metadata": {
        "id": "8yBXeS8O2Ilh"
      },
      "execution_count": null,
      "outputs": []
    },
    {
      "cell_type": "code",
      "source": [],
      "metadata": {
        "id": "giNXFy2DisXs"
      },
      "execution_count": null,
      "outputs": []
    },
    {
      "cell_type": "code",
      "source": [
        "#weights to be taken randomly\n",
        "\n",
        "# x1------>h1_N1\n",
        "#                    output(H1_N1,H1_N2)   *  O_N1 -> O/P\n",
        "# x2 ------> H1_N2 \n",
        "\n",
        "#TLU\n"
      ],
      "metadata": {
        "id": "LBqN4q1YdDkA"
      },
      "execution_count": null,
      "outputs": []
    },
    {
      "cell_type": "code",
      "source": [
        "import numpy as np\n",
        "k=np.random.randn(1);\n",
        "print(k);"
      ],
      "metadata": {
        "colab": {
          "base_uri": "https://localhost:8080/"
        },
        "id": "yfIrIUu-dHfL",
        "outputId": "e031f100-ac9b-4a66-bb38-ec20523db1b9"
      },
      "execution_count": null,
      "outputs": [
        {
          "output_type": "stream",
          "name": "stdout",
          "text": [
            "[1.30262479]\n"
          ]
        }
      ]
    },
    {
      "cell_type": "code",
      "source": [
        "import numpy as np\n",
        "from sklearn.datasets import load_iris \n",
        "from sklearn.linear_model import Perceptron\n",
        "iris = load_iris()\n",
        "X = iris.data[:, (2, 3)] # petal length, petal width \n",
        "y = (iris.target == 0).astype(np.int) # Iris Setosa?\n",
        "per_clf = Perceptron()\n",
        "per_clf.fit(X, y)\n",
        "y_pred = per_clf.predict([[2, 0.5]])\n",
        "\n"
      ],
      "metadata": {
        "colab": {
          "base_uri": "https://localhost:8080/"
        },
        "id": "Tc517_v0vJ3Q",
        "outputId": "36f63db6-da39-429c-b026-1bd6bb80a034"
      },
      "execution_count": null,
      "outputs": [
        {
          "output_type": "stream",
          "name": "stderr",
          "text": [
            "<ipython-input-5-457ac106236b>:6: DeprecationWarning: `np.int` is a deprecated alias for the builtin `int`. To silence this warning, use `int` by itself. Doing this will not modify any behavior and is safe. When replacing `np.int`, you may wish to use e.g. `np.int64` or `np.int32` to specify the precision. If you wish to review your current use, check the release note link for additional information.\n",
            "Deprecated in NumPy 1.20; for more details and guidance: https://numpy.org/devdocs/release/1.20.0-notes.html#deprecations\n",
            "  y = (iris.target == 0).astype(np.int) # Iris Setosa?\n"
          ]
        }
      ]
    },
    {
      "cell_type": "code",
      "source": [
        "import numpy as np \n",
        "def sig(x):\n",
        " return 1/(1 + np.exp(-x))\n",
        "\n",
        " "
      ],
      "metadata": {
        "id": "LTdtcfZrwZ21"
      },
      "execution_count": null,
      "outputs": []
    },
    {
      "cell_type": "code",
      "source": [
        "import matplotlib.pyplot as plt\n",
        "import numpy as np\n",
        "import math\n",
        "  \n",
        "def sig(x):\n",
        " return 1/(1 + np.exp(-x))\n",
        "\n",
        "def d_sig(x):\n",
        "  return  np.exp(-x)/( pow(1+(np.exp(-x)),2))\n",
        "def tanh(x): \n",
        "  return (np.exp(x) - np.exp(-x))/(np.exp(x) + np.exp(-x))\n",
        "\n",
        "def d_tanh(x):\n",
        "  return 1- pow((np.exp(x) - np.exp(-x))/(np.exp(x) + np.exp(-x)),2)\n",
        "\n",
        "x = np.linspace(-10, 10)\n",
        "#plt.plot(x,d_sig(x))\n",
        "#plt.plot(x, sig(x))\n",
        "plt.plot(x, tanh(x))\n",
        "plt.plot(x, d_tanh(x))\n",
        "plt.show()\n",
        "\n"
      ],
      "metadata": {
        "id": "erzRdbCd2N9b"
      },
      "execution_count": null,
      "outputs": []
    },
    {
      "cell_type": "code",
      "source": [
        "import matplotlib.pyplot as plt\n",
        "import numpy as np\n",
        "import math\n",
        "  \n",
        "def sig(x):\n",
        " return 1/(1 + np.exp(-x))\n",
        "\n",
        "def d_sig(x):\n",
        "  return  np.exp(-x)/( pow(1+(np.exp(-x)),2))\n",
        "def tanh(x): \n",
        "  return (np.exp(x) - np.exp(-x))/(np.exp(x) + np.exp(-x))\n",
        "\n",
        "def d_tanh(x):\n",
        "  return 1- pow((np.exp(x) - np.exp(-x))/(np.exp(x) + np.exp(-x)),2)\n",
        "\n",
        "def Relu(x):\n",
        "  d= map(lambda x: max(0,x),x)\n",
        "  return np.array(list(d))\n",
        "\n",
        "\n",
        "x = np.linspace(-10, 10)\n",
        "plt.plot(x,d_sig(x))\n",
        "plt.plot(x, sig(x))\n",
        "plt.plot(x, tanh(x))\n",
        "plt.plot(x, d_tanh(x))\n",
        "plt.plot(x,Relu(x))\n",
        "plt.show()\n",
        "\n",
        "\n",
        "\n"
      ],
      "metadata": {
        "colab": {
          "base_uri": "https://localhost:8080/",
          "height": 265
        },
        "id": "kk1wOycpwpV_",
        "outputId": "1ac264d0-773e-478b-cf77-df20af6c1679"
      },
      "execution_count": null,
      "outputs": [
        {
          "output_type": "display_data",
          "data": {
            "text/plain": [
              "<Figure size 432x288 with 1 Axes>"
            ],
            "image/png": "[encoded data removed]"
          },
          "metadata": {
            "needs_background": "light"
          }
        }
      ]
    },
    {
      "cell_type": "code",
      "source": [
        "#chapter 10\n",
        "from keras.models import Sequential\n",
        "from keras.layers import Dense\n",
        "model=Sequential()\n",
        "model.add(Dense(2,input_dim=2,activation='relu'))\n",
        "model.add(Dense(1,activation='sigmoid'))\n",
        "model.summary()\n",
        "\n",
        "\n",
        "\n",
        "import numpy as np # AND gate\n",
        "from keras.models import Sequential\n",
        "from keras.layers.core import Dense\n",
        "\n",
        "model.compile(optimizer='sgd',loss='binary_crossentropy',metrics=['accuracy'])\n",
        "#history=model.fit(x,y)\n",
        "X=np.array([[0,0],[0,1],[1,0],[1,1]])\n",
        "Y=np.array([[0],[1],[1],[1]])\n",
        "history = model.fit(X,Y,epochs=100,verbose=0)\n",
        "\n",
        "\n",
        "\n",
        "\n",
        "\n"
      ],
      "metadata": {
        "colab": {
          "base_uri": "https://localhost:8080/"
        },
        "id": "kqeRqkpImtSh",
        "outputId": "73a1f5b2-138a-4b6f-df78-185b2fc770a4"
      },
      "execution_count": null,
      "outputs": [
        {
          "output_type": "stream",
          "name": "stdout",
          "text": [
            "Model: \"sequential_1\"\n",
            "_________________________________________________________________\n",
            " Layer (type)                Output Shape              Param #   \n",
            "=================================================================\n",
            " dense_2 (Dense)             (None, 2)                 6         \n",
            "                                                                 \n",
            " dense_3 (Dense)             (None, 1)                 3         \n",
            "                                                                 \n",
            "=================================================================\n",
            "Total params: 9\n",
            "Trainable params: 9\n",
            "Non-trainable params: 0\n",
            "_________________________________________________________________\n"
          ]
        }
      ]
    },
    {
      "cell_type": "code",
      "source": [
        "import numpy as np \n",
        "import random\n",
        "from keras.models import Sequential\n",
        "from keras.layers import Input,concatenate\n",
        "from keras.models import Model\n",
        "from keras.layers.core import Dense\n",
        "import tensorflow as tf\n",
        "tf.random.set_seed(34)\n",
        "\n",
        "\n",
        "\n",
        "\n",
        "\n",
        "#Model.fit(X,Y,epochs=100,verbose=0)\n",
        "model.compile(optimizer='sgd',loss='binary_crossentropy',metrics=['accuracy'])\n",
        "#history=model.fit(x,y)\n",
        "X=np.array([[0,0],[0,1],[1,0],[1,1]])\n",
        "Y=np.array([[0],[1],[1],[0]])\n",
        "#history = model.fit(X,Y,epochs=3)\n",
        "#loss,accuracy=model.evaluate(X,Y)\n",
        "\n",
        "#history = Model.fit(X,Y,epochs=3)\n",
        "#loss,accuracy=Model.evaluate(X,Y)\n",
        "h1_1=Dense(units=2,activation='relu')(X)\n",
        "h1_2=Dense(units=2,activation='relu')(X)\n",
        "C=concatenate([h1_1,h1_2])\n",
        "H2=Dense(units=4,activation='relu')(C)\n",
        "output=Dense(units=1,activation='sigmoid')(H2)\n",
        "Functional_model= Model(X,output)\n",
        "Functional_model.summary()"
      ],
      "metadata": {
        "colab": {
          "base_uri": "https://localhost:8080/",
          "height": 443
        },
        "id": "XbcbwVSVo1_2",
        "outputId": "602e8188-6fd8-4a12-a881-012321dcb433"
      },
      "execution_count": null,
      "outputs": [
        {
          "output_type": "error",
          "ename": "ValueError",
          "evalue": "ignored",
          "traceback": [
            "\u001b[0;31m---------------------------------------------------------------------------\u001b[0m",
            "\u001b[0;31mValueError\u001b[0m                                Traceback (most recent call last)",
            "\u001b[0;32m<ipython-input-5-6599e66844a5>\u001b[0m in \u001b[0;36m<module>\u001b[0;34m\u001b[0m\n\u001b[1;32m     27\u001b[0m \u001b[0mH2\u001b[0m\u001b[0;34m=\u001b[0m\u001b[0mDense\u001b[0m\u001b[0;34m(\u001b[0m\u001b[0munits\u001b[0m\u001b[0;34m=\u001b[0m\u001b[0;36m4\u001b[0m\u001b[0;34m,\u001b[0m\u001b[0mactivation\u001b[0m\u001b[0;34m=\u001b[0m\u001b[0;34m'relu'\u001b[0m\u001b[0;34m)\u001b[0m\u001b[0;34m(\u001b[0m\u001b[0mC\u001b[0m\u001b[0;34m)\u001b[0m\u001b[0;34m\u001b[0m\u001b[0;34m\u001b[0m\u001b[0m\n\u001b[1;32m     28\u001b[0m \u001b[0moutput\u001b[0m\u001b[0;34m=\u001b[0m\u001b[0mDense\u001b[0m\u001b[0;34m(\u001b[0m\u001b[0munits\u001b[0m\u001b[0;34m=\u001b[0m\u001b[0;36m1\u001b[0m\u001b[0;34m,\u001b[0m\u001b[0mactivation\u001b[0m\u001b[0;34m=\u001b[0m\u001b[0;34m'sigmoid'\u001b[0m\u001b[0;34m)\u001b[0m\u001b[0;34m(\u001b[0m\u001b[0mH2\u001b[0m\u001b[0;34m)\u001b[0m\u001b[0;34m\u001b[0m\u001b[0;34m\u001b[0m\u001b[0m\n\u001b[0;32m---> 29\u001b[0;31m \u001b[0mFunctional_model\u001b[0m\u001b[0;34m=\u001b[0m \u001b[0mModel\u001b[0m\u001b[0;34m(\u001b[0m\u001b[0mX\u001b[0m\u001b[0;34m,\u001b[0m\u001b[0moutput\u001b[0m\u001b[0;34m)\u001b[0m\u001b[0;34m\u001b[0m\u001b[0;34m\u001b[0m\u001b[0m\n\u001b[0m\u001b[1;32m     30\u001b[0m \u001b[0mFunctional_model\u001b[0m\u001b[0;34m.\u001b[0m\u001b[0msummary\u001b[0m\u001b[0;34m(\u001b[0m\u001b[0;34m)\u001b[0m\u001b[0;34m\u001b[0m\u001b[0;34m\u001b[0m\u001b[0m\n",
            "\u001b[0;32m/usr/local/lib/python3.8/dist-packages/tensorflow/python/training/tracking/base.py\u001b[0m in \u001b[0;36m_method_wrapper\u001b[0;34m(self, *args, **kwargs)\u001b[0m\n\u001b[1;32m    585\u001b[0m     \u001b[0mself\u001b[0m\u001b[0;34m.\u001b[0m\u001b[0m_self_setattr_tracking\u001b[0m \u001b[0;34m=\u001b[0m \u001b[0;32mFalse\u001b[0m  \u001b[0;31m# pylint: disable=protected-access\u001b[0m\u001b[0;34m\u001b[0m\u001b[0;34m\u001b[0m\u001b[0m\n\u001b[1;32m    586\u001b[0m     \u001b[0;32mtry\u001b[0m\u001b[0;34m:\u001b[0m\u001b[0;34m\u001b[0m\u001b[0;34m\u001b[0m\u001b[0m\n\u001b[0;32m--> 587\u001b[0;31m       \u001b[0mresult\u001b[0m \u001b[0;34m=\u001b[0m \u001b[0mmethod\u001b[0m\u001b[0;34m(\u001b[0m\u001b[0mself\u001b[0m\u001b[0;34m,\u001b[0m \u001b[0;34m*\u001b[0m\u001b[0margs\u001b[0m\u001b[0;34m,\u001b[0m \u001b[0;34m**\u001b[0m\u001b[0mkwargs\u001b[0m\u001b[0;34m)\u001b[0m\u001b[0;34m\u001b[0m\u001b[0;34m\u001b[0m\u001b[0m\n\u001b[0m\u001b[1;32m    588\u001b[0m     \u001b[0;32mfinally\u001b[0m\u001b[0;34m:\u001b[0m\u001b[0;34m\u001b[0m\u001b[0;34m\u001b[0m\u001b[0m\n\u001b[1;32m    589\u001b[0m       \u001b[0mself\u001b[0m\u001b[0;34m.\u001b[0m\u001b[0m_self_setattr_tracking\u001b[0m \u001b[0;34m=\u001b[0m \u001b[0mprevious_value\u001b[0m  \u001b[0;31m# pylint: disable=protected-access\u001b[0m\u001b[0;34m\u001b[0m\u001b[0;34m\u001b[0m\u001b[0m\n",
            "\u001b[0;32m/usr/local/lib/python3.8/dist-packages/keras/engine/functional.py\u001b[0m in \u001b[0;36m__init__\u001b[0;34m(self, inputs, outputs, name, trainable, **kwargs)\u001b[0m\n\u001b[1;32m    143\u001b[0m     \u001b[0;31m# This feature is only enabled in TF2 not in v1 graph mode.\u001b[0m\u001b[0;34m\u001b[0m\u001b[0;34m\u001b[0m\u001b[0;34m\u001b[0m\u001b[0m\n\u001b[1;32m    144\u001b[0m     \u001b[0;32mif\u001b[0m \u001b[0mtf\u001b[0m\u001b[0;34m.\u001b[0m\u001b[0mcompat\u001b[0m\u001b[0;34m.\u001b[0m\u001b[0mv1\u001b[0m\u001b[0;34m.\u001b[0m\u001b[0mexecuting_eagerly_outside_functions\u001b[0m\u001b[0;34m(\u001b[0m\u001b[0;34m)\u001b[0m\u001b[0;34m:\u001b[0m\u001b[0;34m\u001b[0m\u001b[0;34m\u001b[0m\u001b[0m\n\u001b[0;32m--> 145\u001b[0;31m       if not all([functional_utils.is_input_keras_tensor(t)\n\u001b[0m\u001b[1;32m    146\u001b[0m                   for t in tf.nest.flatten(inputs)]):\n\u001b[1;32m    147\u001b[0m         \u001b[0minputs\u001b[0m\u001b[0;34m,\u001b[0m \u001b[0moutputs\u001b[0m \u001b[0;34m=\u001b[0m \u001b[0mfunctional_utils\u001b[0m\u001b[0;34m.\u001b[0m\u001b[0mclone_graph_nodes\u001b[0m\u001b[0;34m(\u001b[0m\u001b[0minputs\u001b[0m\u001b[0;34m,\u001b[0m \u001b[0moutputs\u001b[0m\u001b[0;34m)\u001b[0m\u001b[0;34m\u001b[0m\u001b[0;34m\u001b[0m\u001b[0m\n",
            "\u001b[0;32m/usr/local/lib/python3.8/dist-packages/keras/engine/functional.py\u001b[0m in \u001b[0;36m<listcomp>\u001b[0;34m(.0)\u001b[0m\n\u001b[1;32m    143\u001b[0m     \u001b[0;31m# This feature is only enabled in TF2 not in v1 graph mode.\u001b[0m\u001b[0;34m\u001b[0m\u001b[0;34m\u001b[0m\u001b[0;34m\u001b[0m\u001b[0m\n\u001b[1;32m    144\u001b[0m     \u001b[0;32mif\u001b[0m \u001b[0mtf\u001b[0m\u001b[0;34m.\u001b[0m\u001b[0mcompat\u001b[0m\u001b[0;34m.\u001b[0m\u001b[0mv1\u001b[0m\u001b[0;34m.\u001b[0m\u001b[0mexecuting_eagerly_outside_functions\u001b[0m\u001b[0;34m(\u001b[0m\u001b[0;34m)\u001b[0m\u001b[0;34m:\u001b[0m\u001b[0;34m\u001b[0m\u001b[0;34m\u001b[0m\u001b[0m\n\u001b[0;32m--> 145\u001b[0;31m       if not all([functional_utils.is_input_keras_tensor(t)\n\u001b[0m\u001b[1;32m    146\u001b[0m                   for t in tf.nest.flatten(inputs)]):\n\u001b[1;32m    147\u001b[0m         \u001b[0minputs\u001b[0m\u001b[0;34m,\u001b[0m \u001b[0moutputs\u001b[0m \u001b[0;34m=\u001b[0m \u001b[0mfunctional_utils\u001b[0m\u001b[0;34m.\u001b[0m\u001b[0mclone_graph_nodes\u001b[0m\u001b[0;34m(\u001b[0m\u001b[0minputs\u001b[0m\u001b[0;34m,\u001b[0m \u001b[0moutputs\u001b[0m\u001b[0;34m)\u001b[0m\u001b[0;34m\u001b[0m\u001b[0;34m\u001b[0m\u001b[0m\n",
            "\u001b[0;32m/usr/local/lib/python3.8/dist-packages/keras/engine/functional_utils.py\u001b[0m in \u001b[0;36mis_input_keras_tensor\u001b[0;34m(tensor)\u001b[0m\n\u001b[1;32m     45\u001b[0m   \"\"\"\n\u001b[1;32m     46\u001b[0m   \u001b[0;32mif\u001b[0m \u001b[0;32mnot\u001b[0m \u001b[0mnode_module\u001b[0m\u001b[0;34m.\u001b[0m\u001b[0mis_keras_tensor\u001b[0m\u001b[0;34m(\u001b[0m\u001b[0mtensor\u001b[0m\u001b[0;34m)\u001b[0m\u001b[0;34m:\u001b[0m\u001b[0;34m\u001b[0m\u001b[0;34m\u001b[0m\u001b[0m\n\u001b[0;32m---> 47\u001b[0;31m     \u001b[0;32mraise\u001b[0m \u001b[0mValueError\u001b[0m\u001b[0;34m(\u001b[0m\u001b[0m_KERAS_TENSOR_TYPE_CHECK_ERROR_MSG\u001b[0m\u001b[0;34m.\u001b[0m\u001b[0mformat\u001b[0m\u001b[0;34m(\u001b[0m\u001b[0mtensor\u001b[0m\u001b[0;34m)\u001b[0m\u001b[0;34m)\u001b[0m\u001b[0;34m\u001b[0m\u001b[0;34m\u001b[0m\u001b[0m\n\u001b[0m\u001b[1;32m     48\u001b[0m   \u001b[0;32mreturn\u001b[0m \u001b[0mtensor\u001b[0m\u001b[0;34m.\u001b[0m\u001b[0mnode\u001b[0m\u001b[0;34m.\u001b[0m\u001b[0mis_input\u001b[0m\u001b[0;34m\u001b[0m\u001b[0;34m\u001b[0m\u001b[0m\n\u001b[1;32m     49\u001b[0m \u001b[0;34m\u001b[0m\u001b[0m\n",
            "\u001b[0;31mValueError\u001b[0m: Found unexpected instance while processing input tensors for keras functional model. Expecting KerasTensor which is from tf.keras.Input() or output from keras layer call(). Got: [[0 0]\n [0 1]\n [1 0]\n [1 1]]"
          ]
        }
      ]
    },
    {
      "cell_type": "markdown",
      "source": [],
      "metadata": {
        "id": "3q8Af5XWo1ft"
      }
    },
    {
      "cell_type": "code",
      "source": [
        "from keras.engine.sequential import functional\n",
        "Functional_model\n",
        "#<name_ofthismodel>.save(\"My_saved_model.hs\")\n"
      ],
      "metadata": {
        "id": "qLctjq-qpBsu"
      },
      "execution_count": null,
      "outputs": []
    },
    {
      "cell_type": "code",
      "source": [
        "#use prev model\n",
        "import keras\n",
        "funt_model = keras.models.load_model(\"My_saved_modules\")\n"
      ],
      "metadata": {
        "colab": {
          "base_uri": "https://localhost:8080/",
          "height": 353
        },
        "id": "rTH6kWe4pRx2",
        "outputId": "d1dc996c-a817-4b3d-8466-9d5916f0d3f3"
      },
      "execution_count": null,
      "outputs": [
        {
          "output_type": "error",
          "ename": "OSError",
          "evalue": "ignored",
          "traceback": [
            "\u001b[0;31m---------------------------------------------------------------------------\u001b[0m",
            "\u001b[0;31mOSError\u001b[0m                                   Traceback (most recent call last)",
            "\u001b[0;32m<ipython-input-2-eb753826fd04>\u001b[0m in \u001b[0;36m<module>\u001b[0;34m\u001b[0m\n\u001b[1;32m      1\u001b[0m \u001b[0;31m#use prev model\u001b[0m\u001b[0;34m\u001b[0m\u001b[0;34m\u001b[0m\u001b[0;34m\u001b[0m\u001b[0m\n\u001b[1;32m      2\u001b[0m \u001b[0;32mimport\u001b[0m \u001b[0mkeras\u001b[0m\u001b[0;34m\u001b[0m\u001b[0;34m\u001b[0m\u001b[0m\n\u001b[0;32m----> 3\u001b[0;31m \u001b[0mfunt_model\u001b[0m \u001b[0;34m=\u001b[0m \u001b[0mkeras\u001b[0m\u001b[0;34m.\u001b[0m\u001b[0mmodels\u001b[0m\u001b[0;34m.\u001b[0m\u001b[0mload_model\u001b[0m\u001b[0;34m(\u001b[0m\u001b[0;34m\"My'_saved_modules\"\u001b[0m\u001b[0;34m)\u001b[0m\u001b[0;34m\u001b[0m\u001b[0;34m\u001b[0m\u001b[0m\n\u001b[0m",
            "\u001b[0;32m/usr/local/lib/python3.8/dist-packages/keras/utils/traceback_utils.py\u001b[0m in \u001b[0;36merror_handler\u001b[0;34m(*args, **kwargs)\u001b[0m\n\u001b[1;32m     65\u001b[0m     \u001b[0;32mexcept\u001b[0m \u001b[0mException\u001b[0m \u001b[0;32mas\u001b[0m \u001b[0me\u001b[0m\u001b[0;34m:\u001b[0m  \u001b[0;31m# pylint: disable=broad-except\u001b[0m\u001b[0;34m\u001b[0m\u001b[0;34m\u001b[0m\u001b[0m\n\u001b[1;32m     66\u001b[0m       \u001b[0mfiltered_tb\u001b[0m \u001b[0;34m=\u001b[0m \u001b[0m_process_traceback_frames\u001b[0m\u001b[0;34m(\u001b[0m\u001b[0me\u001b[0m\u001b[0;34m.\u001b[0m\u001b[0m__traceback__\u001b[0m\u001b[0;34m)\u001b[0m\u001b[0;34m\u001b[0m\u001b[0;34m\u001b[0m\u001b[0m\n\u001b[0;32m---> 67\u001b[0;31m       \u001b[0;32mraise\u001b[0m \u001b[0me\u001b[0m\u001b[0;34m.\u001b[0m\u001b[0mwith_traceback\u001b[0m\u001b[0;34m(\u001b[0m\u001b[0mfiltered_tb\u001b[0m\u001b[0;34m)\u001b[0m \u001b[0;32mfrom\u001b[0m \u001b[0;32mNone\u001b[0m\u001b[0;34m\u001b[0m\u001b[0;34m\u001b[0m\u001b[0m\n\u001b[0m\u001b[1;32m     68\u001b[0m     \u001b[0;32mfinally\u001b[0m\u001b[0;34m:\u001b[0m\u001b[0;34m\u001b[0m\u001b[0;34m\u001b[0m\u001b[0m\n\u001b[1;32m     69\u001b[0m       \u001b[0;32mdel\u001b[0m \u001b[0mfiltered_tb\u001b[0m\u001b[0;34m\u001b[0m\u001b[0;34m\u001b[0m\u001b[0m\n",
            "\u001b[0;32m/usr/local/lib/python3.8/dist-packages/keras/saving/save.py\u001b[0m in \u001b[0;36mload_model\u001b[0;34m(filepath, custom_objects, compile, options)\u001b[0m\n\u001b[1;32m    204\u001b[0m         \u001b[0;32mif\u001b[0m \u001b[0misinstance\u001b[0m\u001b[0;34m(\u001b[0m\u001b[0mfilepath_str\u001b[0m\u001b[0;34m,\u001b[0m \u001b[0mstr\u001b[0m\u001b[0;34m)\u001b[0m\u001b[0;34m:\u001b[0m\u001b[0;34m\u001b[0m\u001b[0;34m\u001b[0m\u001b[0m\n\u001b[1;32m    205\u001b[0m           \u001b[0;32mif\u001b[0m \u001b[0;32mnot\u001b[0m \u001b[0mtf\u001b[0m\u001b[0;34m.\u001b[0m\u001b[0mio\u001b[0m\u001b[0;34m.\u001b[0m\u001b[0mgfile\u001b[0m\u001b[0;34m.\u001b[0m\u001b[0mexists\u001b[0m\u001b[0;34m(\u001b[0m\u001b[0mfilepath_str\u001b[0m\u001b[0;34m)\u001b[0m\u001b[0;34m:\u001b[0m\u001b[0;34m\u001b[0m\u001b[0;34m\u001b[0m\u001b[0m\n\u001b[0;32m--> 206\u001b[0;31m             \u001b[0;32mraise\u001b[0m \u001b[0mIOError\u001b[0m\u001b[0;34m(\u001b[0m\u001b[0;34mf'No file or directory found at {filepath_str}'\u001b[0m\u001b[0;34m)\u001b[0m\u001b[0;34m\u001b[0m\u001b[0;34m\u001b[0m\u001b[0m\n\u001b[0m\u001b[1;32m    207\u001b[0m \u001b[0;34m\u001b[0m\u001b[0m\n\u001b[1;32m    208\u001b[0m           \u001b[0;32mif\u001b[0m \u001b[0mtf\u001b[0m\u001b[0;34m.\u001b[0m\u001b[0mio\u001b[0m\u001b[0;34m.\u001b[0m\u001b[0mgfile\u001b[0m\u001b[0;34m.\u001b[0m\u001b[0misdir\u001b[0m\u001b[0;34m(\u001b[0m\u001b[0mfilepath_str\u001b[0m\u001b[0;34m)\u001b[0m\u001b[0;34m:\u001b[0m\u001b[0;34m\u001b[0m\u001b[0;34m\u001b[0m\u001b[0m\n",
            "\u001b[0;31mOSError\u001b[0m: No file or directory found at My'_saved_modules"
          ]
        }
      ]
    },
    {
      "cell_type": "code",
      "source": [
        "# functional model \n",
        "import numpy as np\n",
        "\n",
        "from keras.layers import Dense\n",
        "from keras.models import Model\n",
        "import numpy as np\n",
        "from keras.layers import Input\n",
        "from keras.layers import concatenate\n",
        "import tensorflow as tf\n",
        "tf.random.set_seed(34)\n",
        "#Model = Sequential()\n",
        "##Model.add(Dense(4,input_dim = 2 , activation = 'relu'))\n",
        "#Model.add(Dense(1, activation = 'sigmoid'))\n",
        "#Model.compile(optimizer = \"sgd\", loss = \"binary_crossentropy\",metrics = ['accuracy'])\n",
        "X = np.array([[0,0],[0,1],[1,0],[1,1]])\n",
        "y = np.array([[0],[1],[1],[1]])\n",
        "#history = Model.fit(X,y, epochs = 3 , verbose = 0 )\n",
        "#loss,accuracy = Model.evaluate(X,y)\n",
        "#loss\n",
        "#pred = Model.predict(X)\n",
        "Inputs = Input(shape = (2,))\n",
        "H1_1 = Dense(2, activation = 'relu')(Inputs)\n",
        "H1_2 = Dense(2, activation = 'relu')(Inputs)\n",
        "C = concatenate([H1_1,H1_2])\n",
        "H2 = Dense(4 , activation = 'relu')(C)\n",
        "o = Dense(1, activation = 'sigmoid')(H2)\n",
        "Functional_model = Model(Inputs,o)\n",
        "from keras.models import Model\n",
        "#Functional_model.summary()\n",
        "Functional_model.layers\n",
        "hidden1 = Functional_model.layers[1]\n",
        "from keras.models import Model \n",
        "from tensorflow.keras import layers\n",
        "Functional_model.layers\n",
        "hidden1 = Functional_model.layers[1]\n",
        "weights , biases = hidden1.get_weights()\n",
        "weights\n",
        "Functional_model.get_weights()\n",
        "\n"
      ],
      "metadata": {
        "colab": {
          "base_uri": "https://localhost:8080/"
        },
        "id": "86jy99j5sq1i",
        "outputId": "094c8b89-1eba-4941-8811-5047095f050e"
      },
      "execution_count": null,
      "outputs": [
        {
          "output_type": "execute_result",
          "data": {
            "text/plain": [
              "[array([[-0.06836784, -0.5860491 ],\n",
              "        [ 1.1002396 ,  0.46330345]], dtype=float32),\n",
              " array([0., 0.], dtype=float32),\n",
              " array([[-1.0973021 ,  1.179897  ],\n",
              "        [ 0.02158129,  1.0703229 ]], dtype=float32),\n",
              " array([0., 0.], dtype=float32),\n",
              " array([[ 0.46430403,  0.73714703,  0.22304457,  0.67886   ],\n",
              "        [-0.404189  ,  0.5725506 ,  0.71639806,  0.865796  ],\n",
              "        [-0.45107773,  0.15327495,  0.17228645,  0.40917224],\n",
              "        [ 0.27602798, -0.77644926, -0.5217272 ,  0.68577236]],\n",
              "       dtype=float32),\n",
              " array([0., 0., 0., 0.], dtype=float32),\n",
              " array([[-0.2328676 ],\n",
              "        [ 1.0944676 ],\n",
              "        [-0.150536  ],\n",
              "        [-0.52253336]], dtype=float32),\n",
              " array([0.], dtype=float32)]"
            ]
          },
          "metadata": {},
          "execution_count": 6
        }
      ]
    },
    {
      "cell_type": "code",
      "source": [
        "import keras \n",
        "from keras.models import Model\n",
        "from tensorflow.keras import layers\n",
        "my_callback=keras.callbacks.EarlyStopping(monitor= 'loss', mode = 'min',min_delta=0.1)\n",
        "#we want minimize loss thats why loss is minimum\n",
        "fit(train,target,epochs=10000,callbacks=my_callback,verbose=0/1)\n"
      ],
      "metadata": {
        "colab": {
          "base_uri": "https://localhost:8080/",
          "height": 204
        },
        "id": "ObkN5VF3vIiU",
        "outputId": "c2742965-a258-48e2-cc80-b1d32110f9b7"
      },
      "execution_count": null,
      "outputs": [
        {
          "output_type": "error",
          "ename": "NameError",
          "evalue": "ignored",
          "traceback": [
            "\u001b[0;31m---------------------------------------------------------------------------\u001b[0m",
            "\u001b[0;31mNameError\u001b[0m                                 Traceback (most recent call last)",
            "\u001b[0;32m<ipython-input-14-64c6685bc09e>\u001b[0m in \u001b[0;36m<module>\u001b[0;34m\u001b[0m\n\u001b[1;32m      4\u001b[0m \u001b[0mmy_callback\u001b[0m\u001b[0;34m=\u001b[0m\u001b[0mkeras\u001b[0m\u001b[0;34m.\u001b[0m\u001b[0mcallbacks\u001b[0m\u001b[0;34m.\u001b[0m\u001b[0mEarlyStopping\u001b[0m\u001b[0;34m(\u001b[0m\u001b[0mmonitor\u001b[0m\u001b[0;34m=\u001b[0m \u001b[0;34m'loss'\u001b[0m\u001b[0;34m,\u001b[0m \u001b[0mmode\u001b[0m \u001b[0;34m=\u001b[0m \u001b[0;34m'min'\u001b[0m\u001b[0;34m,\u001b[0m\u001b[0mmin_delta\u001b[0m\u001b[0;34m=\u001b[0m\u001b[0;36m0.1\u001b[0m\u001b[0;34m)\u001b[0m\u001b[0;34m\u001b[0m\u001b[0;34m\u001b[0m\u001b[0m\n\u001b[1;32m      5\u001b[0m \u001b[0;31m#we want minimize loss thats why loss is minimum\u001b[0m\u001b[0;34m\u001b[0m\u001b[0;34m\u001b[0m\u001b[0;34m\u001b[0m\u001b[0m\n\u001b[0;32m----> 6\u001b[0;31m \u001b[0mfit\u001b[0m\u001b[0;34m(\u001b[0m\u001b[0mtrain\u001b[0m\u001b[0;34m,\u001b[0m\u001b[0mtarget\u001b[0m\u001b[0;34m,\u001b[0m\u001b[0mepochs\u001b[0m\u001b[0;34m=\u001b[0m\u001b[0;36m10000\u001b[0m\u001b[0;34m,\u001b[0m\u001b[0mcallbacks\u001b[0m\u001b[0;34m=\u001b[0m\u001b[0mmy_callback\u001b[0m\u001b[0;34m,\u001b[0m\u001b[0mverbose\u001b[0m\u001b[0;34m=\u001b[0m\u001b[0;36m0\u001b[0m\u001b[0;34m/\u001b[0m\u001b[0;36m1\u001b[0m\u001b[0;34m)\u001b[0m\u001b[0;34m\u001b[0m\u001b[0;34m\u001b[0m\u001b[0m\n\u001b[0m",
            "\u001b[0;31mNameError\u001b[0m: name 'fit' is not defined"
          ]
        }
      ]
    },
    {
      "cell_type": "code",
      "source": [
        "# functional model \n",
        "import numpy as np\n",
        "from keras.layers import Dense\n",
        "from keras.models import Model\n",
        "import numpy as np\n",
        "from keras.layers import Input\n",
        "from keras.layers import concatenate\n",
        "import tensorflow as tf\n",
        "tf.random.set_seed(34)\n",
        "#Model = Sequential()\n",
        "##Model.add(Dense(4,input_dim = 2 , activation = 'relu'))\n",
        "#Model.add(Dense(1, activation = 'sigmoid'))\n",
        "#Model.compile(optimizer = \"sgd\", loss = \"binary_crossentropy\",metrics = ['accuracy'])\n",
        "X = np.array([[0,0],[0,1],[1,0],[1,1]])\n",
        "y = np.array([[0],[1],[1],[1]])\n",
        "#history = Model.fit(X,y, epochs = 3 , verbose = 0 )\n",
        "#loss,accuracy = Model.evaluate(X,y)\n",
        "#loss\n",
        "#pred = Model.predict(X)\n",
        "Inputs = Input(shape = (2,))\n",
        "H1_1 = Dense(2, activation = 'relu')(Inputs)\n",
        "H1_2 = Dense(2, activation = 'relu')(Inputs)\n",
        "C = concatenate([H1_1,H1_2])\n",
        "H2 = Dense(4 , activation = 'relu')(C)\n",
        "o = Dense(1, activation = 'sigmoid')(H2)\n",
        "Functional_model = Model(Inputs,o)\n",
        "\n",
        "\n",
        "from keras.models import Model\n",
        "#Functional_model.summary()\n",
        "Functional_model.layers\n",
        "hidden1 = Functional_model.layers[1]\n",
        "\n",
        "\n",
        "from keras.models import Model \n",
        "from tensorflow.keras import layers\n",
        "Functional_model.layers\n",
        "hidden1 = Functional_model.layers[1]\n",
        "weights , biases = hidden1.get_weights()\n",
        "weights\n",
        "#Functional_model.get_weights()\n",
        "#my_callback=keras.callbacks.EarlyStopping(monitor= 'loss', mode = 'min',min_delta=0.1)\n",
        "#we want minimize loss thats why loss is minimum\n",
        "#fit(train,target,epochs=10000,callbacks=my_callback,verbose=0/1)\n",
        "Functional_model.layers[5].get_weights()\n",
        "given_weight=Functional_model.layers[1].get_weights()\n",
        "given_weight = given_weight+ 0.5; #adding 0.5 to create new weight\n",
        "Functional_model.layers[0].set_weights(given_weight)#using other weights our models\n",
        "#len(Functional_model.layers)"
      ],
      "metadata": {
        "colab": {
          "base_uri": "https://localhost:8080/",
          "height": 240
        },
        "id": "uOMLsa3awJek",
        "outputId": "7b6fda11-6fc2-419b-e385-ee6df0cc6804"
      },
      "execution_count": null,
      "outputs": [
        {
          "output_type": "error",
          "ename": "TypeError",
          "evalue": "ignored",
          "traceback": [
            "\u001b[0;31m---------------------------------------------------------------------------\u001b[0m",
            "\u001b[0;31mTypeError\u001b[0m                                 Traceback (most recent call last)",
            "\u001b[0;32m<ipython-input-31-b735d01fcf23>\u001b[0m in \u001b[0;36m<module>\u001b[0;34m\u001b[0m\n\u001b[1;32m     45\u001b[0m \u001b[0mFunctional_model\u001b[0m\u001b[0;34m.\u001b[0m\u001b[0mlayers\u001b[0m\u001b[0;34m[\u001b[0m\u001b[0;36m5\u001b[0m\u001b[0;34m]\u001b[0m\u001b[0;34m.\u001b[0m\u001b[0mget_weights\u001b[0m\u001b[0;34m(\u001b[0m\u001b[0;34m)\u001b[0m\u001b[0;34m\u001b[0m\u001b[0;34m\u001b[0m\u001b[0m\n\u001b[1;32m     46\u001b[0m \u001b[0mgiven_weight\u001b[0m\u001b[0;34m=\u001b[0m\u001b[0mFunctional_model\u001b[0m\u001b[0;34m.\u001b[0m\u001b[0mlayers\u001b[0m\u001b[0;34m[\u001b[0m\u001b[0;36m1\u001b[0m\u001b[0;34m]\u001b[0m\u001b[0;34m.\u001b[0m\u001b[0mget_weights\u001b[0m\u001b[0;34m(\u001b[0m\u001b[0;34m)\u001b[0m\u001b[0;34m;\u001b[0m\u001b[0;34m\u001b[0m\u001b[0;34m\u001b[0m\u001b[0m\n\u001b[0;32m---> 47\u001b[0;31m \u001b[0mgiven_weight\u001b[0m \u001b[0;34m=\u001b[0m \u001b[0mgiven_weight\u001b[0m\u001b[0;34m+\u001b[0m \u001b[0;36m0.5\u001b[0m\u001b[0;34m;\u001b[0m\u001b[0;34m\u001b[0m\u001b[0;34m\u001b[0m\u001b[0m\n\u001b[0m\u001b[1;32m     48\u001b[0m \u001b[0mFunctional_model\u001b[0m\u001b[0;34m.\u001b[0m\u001b[0mlayers\u001b[0m\u001b[0;34m[\u001b[0m\u001b[0;36m0\u001b[0m\u001b[0;34m]\u001b[0m\u001b[0;34m.\u001b[0m\u001b[0mset_weights\u001b[0m\u001b[0;34m(\u001b[0m\u001b[0mgiven_weight\u001b[0m\u001b[0;34m)\u001b[0m\u001b[0;34m\u001b[0m\u001b[0;34m\u001b[0m\u001b[0m\n\u001b[1;32m     49\u001b[0m \u001b[0;31m#len(Functional_model.layers)\u001b[0m\u001b[0;34m\u001b[0m\u001b[0;34m\u001b[0m\u001b[0;34m\u001b[0m\u001b[0m\n",
            "\u001b[0;31mTypeError\u001b[0m: can only concatenate list (not \"float\") to list"
          ]
        }
      ]
    },
    {
      "cell_type": "code",
      "source": [
        "'''\n",
        "initially b=random number\n",
        "summation(x)-b>=0  for y to be 1\n",
        "if not modify b\n",
        "\n",
        "truth table:\n",
        "x1 x2 y\n",
        "0  0  0\n",
        "0  1  1\n",
        "1  0  1\n",
        "1  1  1\n",
        "\n",
        "return b as TL\n",
        "'''\n",
        "\n",
        "import numpy as np\n",
        "import random\n",
        "x1 = np.array([[0,0]])\n",
        "x2 = np.array([[0,1]])\n",
        "x3 = np.array([[1,0]])\n",
        "x4 = np.array([[1,1]])\n",
        "\n",
        "x11 = np.squeeze(np.asarray(x1))\n",
        "x12 = np.squeeze(np.asarray(x2))\n",
        "x13 = np.squeeze(np.asarray(x3))\n",
        "x14 = np.squeeze(np.asarray(x4))\n",
        "\n",
        "def OrPercep(x):\n",
        "  w = [1,1]\n",
        "  b = random.randint(1,5)\n",
        "  y = np.dot(w,x)\n",
        "  while 1:\n",
        "    if y-b>=0:\n",
        "      print(b)\n",
        "      break\n",
        "    else:\n",
        "       b-=1\n",
        "\n",
        "OrPercep(x11)\n",
        "OrPercep(x12)\n",
        "OrPercep(x13)\n",
        "OrPercep(x14)"
      ],
      "metadata": {
        "colab": {
          "base_uri": "https://localhost:8080/"
        },
        "id": "R5f03Lu_J8lE",
        "outputId": "c07a0c20-2209-40fb-e7ea-0ad626deb39c"
      },
      "execution_count": null,
      "outputs": [
        {
          "output_type": "stream",
          "name": "stdout",
          "text": [
            "0\n",
            "1\n",
            "1\n",
            "2\n"
          ]
        }
      ]
    },
    {
      "cell_type": "code",
      "source": [
        "Functional_model.get_weights()\n"
      ],
      "metadata": {
        "colab": {
          "base_uri": "https://localhost:8080/"
        },
        "id": "PpGusLGLx7v1",
        "outputId": "87448923-ba77-42d6-d71c-9e3c6fd727fd"
      },
      "execution_count": null,
      "outputs": [
        {
          "output_type": "execute_result",
          "data": {
            "text/plain": [
              "[array([[-0.06836784, -0.5860491 ],\n",
              "        [ 1.1002396 ,  0.46330345]], dtype=float32),\n",
              " array([0., 0.], dtype=float32),\n",
              " array([[-1.0973021 ,  1.179897  ],\n",
              "        [ 0.02158129,  1.0703229 ]], dtype=float32),\n",
              " array([0., 0.], dtype=float32),\n",
              " array([[ 0.46430403,  0.73714703,  0.22304457,  0.67886   ],\n",
              "        [-0.404189  ,  0.5725506 ,  0.71639806,  0.865796  ],\n",
              "        [-0.45107773,  0.15327495,  0.17228645,  0.40917224],\n",
              "        [ 0.27602798, -0.77644926, -0.5217272 ,  0.68577236]],\n",
              "       dtype=float32),\n",
              " array([0., 0., 0., 0.], dtype=float32),\n",
              " array([[-0.2328676 ],\n",
              "        [ 1.0944676 ],\n",
              "        [-0.150536  ],\n",
              "        [-0.52253336]], dtype=float32),\n",
              " array([0.], dtype=float32)]"
            ]
          },
          "metadata": {},
          "execution_count": 8
        }
      ]
    },
    {
      "cell_type": "code",
      "source": [
        "model1 = Sequential()\n",
        "model1.add(Dense(4,input_dim = 2 , activation = 'relu'))\n",
        "model1.add(Dense(1, activation = 'sigmoid'))\n",
        "#Model.compile(optimizer = \"sgd\", loss = \"binary_crossentropy\",metrics = ['accuracy'])\n",
        "model1.get_weights()\n",
        "model1.layers[0].get_weights()\n",
        "\n",
        "\n",
        "\n",
        "\n",
        "\n",
        "\n",
        "\n",
        "\n",
        "\n",
        "\n",
        "\n",
        "\n",
        "\n",
        "\n",
        "\n",
        "\n",
        "\n",
        "\n",
        "\n",
        "#X = np.array([[0,0],[0,1],[1,0],[1,1]])\n",
        "#y = np.array([[0],[1],[1],[1]])\n",
        "#history = Model.fit(X,y, epochs = 3 , verbose = 0 )\n",
        "#loss,accuracy = Model.evaluate(X,y)\n",
        "#loss\n",
        "#pred = Model.predict(X)\n",
        "#Inputs = Input(shape = (2,))\n",
        "#H1_1 = Dense(2, activation = 'relu')(Inputs)\n",
        "#H1_2 = Dense(2, activation = 'relu')(Inputs)\n",
        "#C = concatenate([H1_1,H1_2])\n",
        "#H2 = Dense(4 , activation = 'relu')(C)\n",
        "#o = Dense(1, activation = 'sigmoid')(H2)\n",
        "#Functional_model = Model(Inputs,o)\n",
        "#from keras.models import Model"
      ],
      "metadata": {
        "colab": {
          "base_uri": "https://localhost:8080/",
          "height": 240
        },
        "id": "sMMEPCgxzvLz",
        "outputId": "3058c10e-01d7-4dee-86ac-37932a6e4e67"
      },
      "execution_count": null,
      "outputs": [
        {
          "output_type": "error",
          "ename": "NameError",
          "evalue": "ignored",
          "traceback": [
            "\u001b[0;31m---------------------------------------------------------------------------\u001b[0m",
            "\u001b[0;31mNameError\u001b[0m                                 Traceback (most recent call last)",
            "\u001b[0;32m<ipython-input-21-64db54446458>\u001b[0m in \u001b[0;36m<module>\u001b[0;34m\u001b[0m\n\u001b[0;32m----> 1\u001b[0;31m \u001b[0mmodel1\u001b[0m \u001b[0;34m=\u001b[0m \u001b[0mSequential\u001b[0m\u001b[0;34m(\u001b[0m\u001b[0;34m)\u001b[0m\u001b[0;34m\u001b[0m\u001b[0;34m\u001b[0m\u001b[0m\n\u001b[0m\u001b[1;32m      2\u001b[0m \u001b[0mmodel1\u001b[0m\u001b[0;34m.\u001b[0m\u001b[0madd\u001b[0m\u001b[0;34m(\u001b[0m\u001b[0mDense\u001b[0m\u001b[0;34m(\u001b[0m\u001b[0;36m4\u001b[0m\u001b[0;34m,\u001b[0m\u001b[0minput_dim\u001b[0m \u001b[0;34m=\u001b[0m \u001b[0;36m2\u001b[0m \u001b[0;34m,\u001b[0m \u001b[0mactivation\u001b[0m \u001b[0;34m=\u001b[0m \u001b[0;34m'relu'\u001b[0m\u001b[0;34m)\u001b[0m\u001b[0;34m)\u001b[0m\u001b[0;34m\u001b[0m\u001b[0;34m\u001b[0m\u001b[0m\n\u001b[1;32m      3\u001b[0m \u001b[0mmodel1\u001b[0m\u001b[0;34m.\u001b[0m\u001b[0madd\u001b[0m\u001b[0;34m(\u001b[0m\u001b[0mDense\u001b[0m\u001b[0;34m(\u001b[0m\u001b[0;36m1\u001b[0m\u001b[0;34m,\u001b[0m \u001b[0mactivation\u001b[0m \u001b[0;34m=\u001b[0m \u001b[0;34m'sigmoid'\u001b[0m\u001b[0;34m)\u001b[0m\u001b[0;34m)\u001b[0m\u001b[0;34m\u001b[0m\u001b[0;34m\u001b[0m\u001b[0m\n\u001b[1;32m      4\u001b[0m \u001b[0;31m#Model.compile(optimizer = \"sgd\", loss = \"binary_crossentropy\",metrics = ['accuracy'])\u001b[0m\u001b[0;34m\u001b[0m\u001b[0;34m\u001b[0m\u001b[0;34m\u001b[0m\u001b[0m\n\u001b[1;32m      5\u001b[0m \u001b[0mmodel1\u001b[0m\u001b[0;34m.\u001b[0m\u001b[0mget_weights\u001b[0m\u001b[0;34m(\u001b[0m\u001b[0;34m)\u001b[0m\u001b[0;34m\u001b[0m\u001b[0;34m\u001b[0m\u001b[0m\n",
            "\u001b[0;31mNameError\u001b[0m: name 'Sequential' is not defined"
          ]
        }
      ]
    },
    {
      "cell_type": "code",
      "source": [
        "#1March2023"
      ],
      "metadata": {
        "id": "mK1MTQxl2L9g"
      },
      "execution_count": null,
      "outputs": []
    },
    {
      "cell_type": "code",
      "source": [],
      "metadata": {
        "id": "Dh2hipAj-nAi"
      },
      "execution_count": null,
      "outputs": []
    },
    {
      "cell_type": "markdown",
      "source": [
        "# New section"
      ],
      "metadata": {
        "id": "X_QdUq1W4Agy"
      }
    }
  ]
}